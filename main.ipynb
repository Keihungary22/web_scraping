{
 "cells": [
  {
   "cell_type": "code",
   "execution_count": 1,
   "id": "ba9cd03b-19fd-47aa-b3f7-55f550f314bb",
   "metadata": {},
   "outputs": [
    {
     "name": "stdout",
     "output_type": "stream",
     "text": [
      "Requirement already satisfied: ollama in c:\\users\\nakan\\appdata\\local\\programs\\python\\python312\\lib\\site-packages (0.3.3)\n",
      "Requirement already satisfied: httpx<0.28.0,>=0.27.0 in c:\\users\\nakan\\appdata\\local\\programs\\python\\python312\\lib\\site-packages (from ollama) (0.27.2)\n",
      "Requirement already satisfied: anyio in c:\\users\\nakan\\appdata\\local\\programs\\python\\python312\\lib\\site-packages (from httpx<0.28.0,>=0.27.0->ollama) (4.0.0)\n",
      "Requirement already satisfied: certifi in c:\\users\\nakan\\appdata\\local\\programs\\python\\python312\\lib\\site-packages (from httpx<0.28.0,>=0.27.0->ollama) (2023.7.22)\n",
      "Requirement already satisfied: httpcore==1.* in c:\\users\\nakan\\appdata\\local\\programs\\python\\python312\\lib\\site-packages (from httpx<0.28.0,>=0.27.0->ollama) (1.0.6)\n",
      "Requirement already satisfied: idna in c:\\users\\nakan\\appdata\\local\\programs\\python\\python312\\lib\\site-packages (from httpx<0.28.0,>=0.27.0->ollama) (3.4)\n",
      "Requirement already satisfied: sniffio in c:\\users\\nakan\\appdata\\local\\programs\\python\\python312\\lib\\site-packages (from httpx<0.28.0,>=0.27.0->ollama) (1.3.0)\n",
      "Requirement already satisfied: h11<0.15,>=0.13 in c:\\users\\nakan\\appdata\\local\\programs\\python\\python312\\lib\\site-packages (from httpcore==1.*->httpx<0.28.0,>=0.27.0->ollama) (0.14.0)\n",
      "Note: you may need to restart the kernel to use updated packages.\n"
     ]
    },
    {
     "name": "stderr",
     "output_type": "stream",
     "text": [
      "\n",
      "[notice] A new release of pip is available: 24.0 -> 24.3.1\n",
      "[notice] To update, run: python.exe -m pip install --upgrade pip\n"
     ]
    }
   ],
   "source": [
    "pip install ollama"
   ]
  },
  {
   "cell_type": "code",
   "execution_count": 2,
   "id": "36d79808-3268-4c59-964c-e24fcd9ec576",
   "metadata": {},
   "outputs": [],
   "source": [
    "#imports\n",
    "\n",
    "import os\n",
    "import requests\n",
    "import json\n",
    "from typing import List\n",
    "from bs4 import BeautifulSoup\n",
    "from IPython.display import Markdown, display, update_display\n",
    "import ollama"
   ]
  },
  {
   "cell_type": "code",
   "execution_count": 3,
   "id": "87045e72-7b5f-44d2-a29d-a07458a34a0b",
   "metadata": {},
   "outputs": [],
   "source": [
    "# A class to represent a Webpage\n",
    "\n",
    "class Website:\n",
    "    url: str\n",
    "    title: str\n",
    "    body: str\n",
    "    links: List[str]\n",
    "    text: str\n",
    "    \n",
    "    def __init__(self, url):\n",
    "        self.url = url\n",
    "        response = requests.get(url)\n",
    "        self.body = response.content\n",
    "        soup = BeautifulSoup(self.body, 'html.parser')\n",
    "        self.title = soup.title.string if soup.title else \"No tilte found\"\n",
    "        for irrelevant in soup.body([\"script\", \"style\", \"img\", \"input\"]):\n",
    "            irrelevant.decompose()\n",
    "        self.text = soup.body.get_text(separator=\"\\n\", strip=True)\n",
    "        # self.title = soup.titile.string if soup.title else \"Notitle found\"\n",
    "    #     if soup.title:\n",
    "    #         self.title = soup.title.string\n",
    "    #     else:\n",
    "    #         self.title = \"No title found\"\n",
    "        \n",
    "    #     if soup.body:\n",
    "    #         for irrelevant in soup.body([\"script\", \"style\", \"img\", \"input\"]):\n",
    "    #             irrelevant.decompose()\n",
    "    #         self.text = soup.body.get_text(separator = \"\\n\", strip = True)\n",
    "    #     else:\n",
    "    #         self.text = \"\"\n",
    "            \n",
    "    #     links = [link.get('href') for link in soup.find_all('a')]\n",
    "    #     self.links = [link for link in links if link]\n",
    "\n",
    "    # def get_contents(self):\n",
    "    #     return f\"Webpage Title:\\n{self.title}\\nWebpage Contents:\\n{self.text}\\n\\n\""
   ]
  },
  {
   "cell_type": "code",
   "execution_count": 4,
   "id": "f1527f78-e0c7-46ee-a78d-380b179a38eb",
   "metadata": {},
   "outputs": [],
   "source": [
    "#ollama setup\n",
    "\n",
    "def query_ollama_model(prompt: str, model:str = 'tinyllama'):\n",
    "    response = ollama.generate(model = model, prompt = prompt)\n",
    "    return response"
   ]
  },
  {
   "cell_type": "code",
   "execution_count": 5,
   "id": "9f90ef12-e280-4604-8110-582ce7e4fa42",
   "metadata": {},
   "outputs": [
    {
     "name": "stdout",
     "output_type": "stream",
     "text": [
      "Home - Edward Donner\n",
      "Home\n",
      "Outsmart\n",
      "An arena that pits LLMs against each other in a battle of diplomacy and deviousness\n",
      "About\n",
      "Posts\n",
      "Well, hi there.\n",
      "I’m Ed. I like writing code and experimenting with LLMs, and hopefully you’re here because you do too. I also enjoy DJing (but I’m badly out of practice), amateur electronic music production (\n",
      "very\n",
      "amateur) and losing myself in\n",
      "Hacker News\n",
      ", nodding my head sagely to things I only half understand.\n",
      "I’m the co-founder and CTO of\n",
      "Nebula.io\n",
      ". We’re applying AI to a field where it can make a massive, positive impact: helping people discover their potential and pursue their reason for being. Recruiters use our product today to source, understand, engage and manage talent. I’m previously the founder and CEO of AI startup untapt,\n",
      "acquired in 2021\n",
      ".\n",
      "We work with groundbreaking, proprietary LLMs verticalized for talent, we’ve\n",
      "patented\n",
      "our matching model, and our award-winning platform has happy customers and tons of press coverage.\n",
      "Connect\n",
      "with me for more!\n",
      "November 13, 2024\n",
      "Mastering AI and LLM Engineering – Resources\n",
      "October 16, 2024\n",
      "From Software Engineer to AI Data Scientist – resources\n",
      "August 6, 2024\n",
      "Outsmart LLM Arena – a battle of diplomacy and deviousness\n",
      "June 26, 2024\n",
      "Choosing the Right LLM: Toolkit and Resources\n",
      "Navigation\n",
      "Home\n",
      "Outsmart\n",
      "An arena that pits LLMs against each other in a battle of diplomacy and deviousness\n",
      "About\n",
      "Posts\n",
      "Get in touch\n",
      "ed [at] edwarddonner [dot] com\n",
      "www.edwarddonner.com\n",
      "Follow me\n",
      "LinkedIn\n",
      "Twitter\n",
      "Facebook\n",
      "Subscribe to newsletter\n",
      "Type your email…\n",
      "Subscribe\n"
     ]
    }
   ],
   "source": [
    "#extract texts from a website\n",
    "\n",
    "ed = Website(\"https://edwarddonner.com\")\n",
    "print(ed.title)\n",
    "print(ed.text)"
   ]
  },
  {
   "cell_type": "code",
   "execution_count": 6,
   "id": "96d03cc1-6ac2-4589-8573-9638f922ab9b",
   "metadata": {},
   "outputs": [],
   "source": [
    "system_prompt = \"You are an assistant that analyzes the contents of a website \\\n",
    "and provides a short summary, ignoring text that might be navigation related. \\\n",
    "Respond in markdown.\""
   ]
  },
  {
   "cell_type": "code",
   "execution_count": 7,
   "id": "b7172d1f-5f8a-40f2-9525-b147a8044451",
   "metadata": {},
   "outputs": [],
   "source": [
    "def user_prompt_for(website):\n",
    "    user_prompt = f\"You are looking at a website titled {website.title}\"\n",
    "    user_prompt += \"The contents of this website is as follows: \\\n",
    "    please provide a short summary of this website in markdown. \\\n",
    "    If it includes news or announcements, then summarize these too. \\n\\n\"\n",
    "    user_prompt += website.text\n",
    "    return user_prompt"
   ]
  },
  {
   "cell_type": "code",
   "execution_count": 8,
   "id": "83faea52-7d62-443b-bde1-7f3562894516",
   "metadata": {},
   "outputs": [],
   "source": [
    "def messages_for(website):\n",
    "    return[\n",
    "        {\"role\": \"system\", \"content\":system_prompt},\n",
    "        {\"role\": \"system\", \"content\":user_prompt_for(website)}\n",
    "]"
   ]
  },
  {
   "cell_type": "code",
   "execution_count": 9,
   "id": "cd08bd03-28b0-443a-8223-d7d7472662dd",
   "metadata": {},
   "outputs": [],
   "source": [
    "# def summarize(url):\n",
    "#     website = Website(url)\n",
    "#     stream = ollama.(\n",
    "#         model = \"tinyllama\",\n",
    "#         messages = messages_for(website),\n",
    "#         stream = True,\n",
    "#     )\n",
    "#     return stream[0]['message']['content']\n",
    "\n",
    "def summarize(url):\n",
    "    website = Website(url)\n",
    "    response = ollama.chat(model=\"tinyllama\", messages = messages_for(website))\n",
    "    reply = response['message']['content']\n",
    "    display(Markdown(reply))\n",
    "\n",
    "\n",
    "# def summarize(url):\n",
    "#     website = Website(url)\n",
    "#     response = ollama.generate(\n",
    "#         model = \"tinyllama\",\n",
    "#         prompt = messages_for(website)\n",
    "#     )\n",
    "#     return response[0]['message']['content']\n",
    "\n",
    "# def summarize(url):\n",
    "#     website = Website(url)\n",
    "#     response = openai.chat.completions.create(\n",
    "#         model = \"gpt-4o-mini\",\n",
    "#         messages = messages_for(website)\n",
    "#     )\n",
    "#     return response.choices[0].message.content\n",
    "\n",
    "# ollama.generate(model='llama3.1', prompt='Why is the sky blue?')"
   ]
  },
  {
   "cell_type": "code",
   "execution_count": 10,
   "id": "310f41b2-40fa-4c43-bc90-454a96e8370e",
   "metadata": {},
   "outputs": [
    {
     "data": {
      "text/markdown": [
       "Sure, here's an edited version with added information about the LLM Arena toolkit and resources:\n",
       "\n",
       "Home\n",
       "Outsmart\n",
       "An arena that pit LLMs against each other in a battle of diplomacy and deviousness\n",
       "About\n",
       "Posts\n",
       "Well, hi there.\n",
       "I’m Ed. I like writing code and experimenting with LLMs, and hopefully you’re here because you do too. I also enjoy DJing (but I’m badly out of practice), amateur electronic music production (very amateur) and losing myself in Hacker News nodding my head sagely to things I only half understand.\n",
       "I’m the co-founder and CTO of Nebula.io, a company applying AI to a field where it can make a massive, positive impact: helping people discover their potential and pursue their reason for being. Recruiters use our product today to soucrise, understan, engage and manage talent. I’m previously the founder and CEO of AI startup untapt, acquired in 2021.\n",
       "We work with groundbreaking, proprietary LLMs verticalized for talent, we’ve patented our matching model, and our award-winning platform has happy customers and tons of press coverage. Connect with me for more!\n",
       "November 13, 2024\n",
       "Mastering AI and LLM Engineering – Resources\n",
       "October 16, 2024\n",
       "From Software Engineer to AI Data Scientist – resources\n",
       "August 6, 2024\n",
       "Outsmart LLM Arena – a battle of diplomacy and deviousness\n",
       "June 26, 2024\n",
       "Choosing the right LLM: Toolkit and resources\n",
       "Ed [at] edwarddonner [dot] com\n",
       "www.edwarddonner.com\n",
       "Follow me on LinkedIn and Twitter. Subscribe to our newsletter."
      ],
      "text/plain": [
       "<IPython.core.display.Markdown object>"
      ]
     },
     "metadata": {},
     "output_type": "display_data"
    }
   ],
   "source": [
    "summarize(\"https://edwarddonner.com\")"
   ]
  },
  {
   "cell_type": "code",
   "execution_count": 11,
   "id": "6a1ccae7-9a39-4c62-9968-613b72300875",
   "metadata": {},
   "outputs": [],
   "source": [
    "def display_summary(url):\n",
    "    summary = summarize(url)\n",
    "    display(Markdown(summary))"
   ]
  },
  {
   "cell_type": "code",
   "execution_count": 12,
   "id": "561e28be-8fe3-4501-a3a9-51009ca028da",
   "metadata": {},
   "outputs": [
    {
     "data": {
      "text/markdown": [
       "Yes, the following are additional resources for downloading and using IBM's open language models:\n",
       "\n",
       "1. \"Open Language Modeling Benchmark (OLMB): A Comprehensive Set of Open-Source Language Models\" - This is a comprehensive list of available open-source language models that can be used for download or training purposes, including IBM models.\n",
       "\n",
       "2. \"IBM Open Language Toolkit (OLLI): A Tool for Processing Natural Language Data in the IBM Cloud\" - This is a free tool that allows you to process and analyze natural language data using IBM's open language models.\n",
       "\n",
       "3. \"OpenNLP: Tools for Open-Domain Named Entity Recognition and Sentiment Analysis on Unstructured Text\" - This is a widely used open-source tool for named entity recognition (NER) and sentiment analysis on unstructured text data. It includes IBM models as part of its training data.\n",
       "\n",
       "4. \"IBM DeepLearning Studio: A Deep Learning Workflow Environment for IBM Cloud Services\" - This is an open-source deep learning workspace that allows you to easily deploy, run, and deploy your neural networks using IBM's machine learning models.\n",
       "\n",
       "5. \"OpenNLU: An Open Source Named Entity Recognition Toolkit\" - This is a toolkit for named entity recognition (NER) that includes IBM models as part of its training data.\n",
       "\n",
       "I hope these resources help you get started with downloading and using IBM's open language models!"
      ],
      "text/plain": [
       "<IPython.core.display.Markdown object>"
      ]
     },
     "metadata": {},
     "output_type": "display_data"
    },
    {
     "data": {
      "text/plain": [
       "<IPython.core.display.Markdown object>"
      ]
     },
     "metadata": {},
     "output_type": "display_data"
    }
   ],
   "source": [
    "display_summary(\"https://ollama.com/library\")"
   ]
  },
  {
   "cell_type": "code",
   "execution_count": null,
   "id": "70f557bf-2b98-4a32-8a58-13add63cb654",
   "metadata": {},
   "outputs": [],
   "source": []
  }
 ],
 "metadata": {
  "kernelspec": {
   "display_name": "Python 3 (ipykernel)",
   "language": "python",
   "name": "python3"
  },
  "language_info": {
   "codemirror_mode": {
    "name": "ipython",
    "version": 3
   },
   "file_extension": ".py",
   "mimetype": "text/x-python",
   "name": "python",
   "nbconvert_exporter": "python",
   "pygments_lexer": "ipython3",
   "version": "3.12.0"
  }
 },
 "nbformat": 4,
 "nbformat_minor": 5
}
